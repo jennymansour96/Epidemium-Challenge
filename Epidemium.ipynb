{
 "cells": [
  {
   "cell_type": "markdown",
   "metadata": {
    "collapsed": true
   },
   "source": [
    "## Importation des packages nécessaires"
   ]
  },
  {
   "cell_type": "code",
   "execution_count": 5,
   "metadata": {},
   "outputs": [
    {
     "data": {
      "text/html": [
       "<script>requirejs.config({paths: { 'plotly': ['https://cdn.plot.ly/plotly-latest.min']},});if(!window.Plotly) {{require(['plotly'],function(plotly) {window.Plotly=plotly;});}}</script>"
      ],
      "text/vnd.plotly.v1+html": [
       "<script>requirejs.config({paths: { 'plotly': ['https://cdn.plot.ly/plotly-latest.min']},});if(!window.Plotly) {{require(['plotly'],function(plotly) {window.Plotly=plotly;});}}</script>"
      ]
     },
     "metadata": {},
     "output_type": "display_data"
    }
   ],
   "source": [
    "%matplotlib inline\n",
    "\n",
    "#Gestion des données\n",
    "import numpy as np\n",
    "import pandas as pd\n",
    "import folium\n",
    "\n",
    "#Visualisation\n",
    "import matplotlib.pyplot as plt\n",
    "import plotly.graph_objs as go\n",
    "import plotly.offline as py\n",
    "py.init_notebook_mode(connected=True)\n",
    "import seaborn as sns\n",
    "from sklearn.feature_selection import mutual_info_classif\n",
    "from sklearn.model_selection import train_test_split\n",
    "import missingno as msno\n",
    "\n",
    "#Machine Learning Package\n",
    "import sklearn as sk\n",
    "import xgboost as xgb\n",
    "\n",
    "#Sauvegarde des données sur le disque dur\n",
    "import pickle"
   ]
  },
  {
   "cell_type": "markdown",
   "metadata": {
    "collapsed": true
   },
   "source": [
    "# Exploration"
   ]
  },
  {
   "cell_type": "markdown",
   "metadata": {},
   "source": [
    "La première étape est de séparer les cancers par groupes dans un fichier annexe, pour pouvoir mieux les comprendre ; et de séparer les pays selons différents agrégats."
   ]
  },
  {
   "cell_type": "markdown",
   "metadata": {},
   "source": [
    "Tri à la main des trois groupes de cancers suivants: cancers digestifs, cancers gynécologiques, cancer du pancréas."
   ]
  },
  {
   "cell_type": "code",
   "execution_count": 6,
   "metadata": {
    "collapsed": true
   },
   "outputs": [],
   "source": [
    "cancer_group=pd.read_csv(\"/Users/Jenny/Desktop/P3A/incidence_dataset/cancer_codes_modif.csv\", sep =\";\")"
   ]
  },
  {
   "cell_type": "code",
   "execution_count": 7,
   "metadata": {
    "collapsed": true,
    "scrolled": true
   },
   "outputs": [],
   "source": [
    "cancers = pd.read_csv(\"/Users/Jenny/Desktop/P3A/incidence_dataset/cancer_codes.csv\", sep =\";\")"
   ]
  },
  {
   "cell_type": "code",
   "execution_count": 8,
   "metadata": {
    "collapsed": true
   },
   "outputs": [],
   "source": [
    "sep = cancers['code'].str.split('-')\n",
    "#\n",
    "#if len(sep) == 1:\n",
    "#    cancers['debut'] = sep[0]\n",
    "#    cancers['fin'] = sep[0]\n",
    "#else:\n",
    "#    cancers['debut'] = sep[0]\n",
    "#    cancers['fin'] = sep[1]"
   ]
  },
  {
   "cell_type": "markdown",
   "metadata": {},
   "source": [
    "Tri à la main des pays récupérés sur la worldbank data pour séparer les pays en sous-groupes."
   ]
  },
  {
   "cell_type": "code",
   "execution_count": 9,
   "metadata": {
    "collapsed": true
   },
   "outputs": [],
   "source": [
    "afrique = ['Angola','Burundi', 'Benin', 'Burkina Faso', 'Botswana', 'Central African Republic', \"Cote d'Ivoire\", \n",
    "'Cameroon', 'Congo, Dem. Rep.', 'Congo, Rep.', 'Comoros', 'Cabo Verde', 'Djibouti', 'Algeria', 'Egypt, Arab Rep.', \n",
    "'Eritrea', 'Ethiopia','Gabon','Ghana', 'Guinea', 'Gambia, The', 'Guinea-Bissau', 'Equatorial Guinea', 'Kenya',\n",
    "'Liberia', 'Libya', 'Lesotho','Morocco','Madagascar','Mali','Mozambique', 'Mauritania', 'Mauritius', \n",
    "'Malawi', 'Namibia', 'Niger','Nigeria','Rwanda','Sudan', 'Senegal','Sierra Leone', 'Somalia','South Sudan', 'Seychelles',\n",
    "'Sao Tome and Principe','Swaziland','Chad','Togo','Tunisia', 'Tanzania', 'Uganda','South Africa', 'Zambia', 'Zimbabwe']\n",
    "#Test pays_afrique: seulement Mauritius et South Africa sont gérés.\n",
    "\n",
    "am_sud = ['Aruba', 'Bolivia', 'Brazil', 'Argentina',  'Chile', 'Colombia', 'Ecuador', 'Guyana', 'Peru','Paraguay','Suriname','Uruguay','Venezuela, RB', 'Curacao']\n",
    "\n",
    "asie = ['Afghanistan', 'Armenia',  'Bahrain', 'Bangladesh', 'Bhutan',\n",
    " 'Brunei Darussalam',  'China',  'Indonesia','India', 'Hong Kong SAR, China',  'Japan', 'Iran, Islamic Rep.',\n",
    " 'Iraq', 'Israel', 'Jordan', 'Kazakhstan', 'Kyrgyz Republic', 'Cambodia',\n",
    " 'Korea, Rep.', 'Kuwait',  'Lao PDR', 'Lebanon', 'Sri Lanka', 'Macao SAR, China',\n",
    " 'Maldives', 'Mongolia', 'Malaysia', 'Nepal', 'Oman', 'Pakistan', 'Philippines',\n",
    " 'Korea, Dem. People’s Rep.', 'Qatar', 'Russian Federation', 'Saudi Arabia', 'Singapore',\n",
    " 'Syrian Arab Republic', 'Thailand', 'Tajikistan', 'Turkmenistan', 'Turkey',\n",
    " 'Uzbekistan', 'Vietnam', 'Yemen, Rep.', 'United Arab Emirates',  'West Bank and Gaza',\n",
    " 'Myanmar', 'Guam', 'Timor-Leste']\n",
    "\n",
    "europe = ['Albania', 'Austria', 'Belgium', 'Andorra',  'Azerbaijan',\n",
    "'Bulgaria', 'Switzerland', 'Denmark',  'Germany', 'Spain',  'United Kingdom',\n",
    "'Ireland', 'Czech Republic', 'Cyprus', 'France', 'Finland', 'Estonia',\n",
    " 'Bosnia and Herzegovina', 'Greece', 'Belarus', 'Gibraltar', 'Georgia',\n",
    " 'Croatia', 'Hungary', 'Iceland', 'Italy', 'Liechtenstein', 'Lithuania',\n",
    " 'Luxembourg', 'Latvia', 'Monaco', 'Moldova', 'Malta', 'Montenegro',\n",
    " 'Netherlands', 'Norway', 'Poland', 'Portugal', 'Romania', 'San Marino',\n",
    " 'Serbia', 'Slovak Republic', 'Slovenia', 'Sweden', 'Ukraine', 'Faroe Islands',\n",
    " 'Macedonia, FYR']\n",
    "\n",
    "oceanie = ['Australia', 'American Samoa',  'Fiji', 'Micronesia, Fed. Sts.',\n",
    " 'Kiribati', 'Marshall Islands', 'Nauru', 'New Zealand', 'Palau', 'Papua New Guinea',\n",
    " 'Solomon Islands', 'Tonga', 'Tuvalu', 'Vanuatu', 'Samoa', 'New Caledonia',\n",
    " 'French Polynesia']\n",
    "\n",
    "am_nord = [ 'Canada', 'Greenland','Cuba', 'Antigua and Barbuda',\n",
    " 'Bahamas, The',  'Barbados', 'Mexico',  'Dominica', 'Dominican Republic',\n",
    " 'Grenada', 'Haiti', 'Jamaica', 'St. Kitts and Nevis', 'St. Lucia', 'Trinidad and Tobago',\n",
    " 'United States','St. Vincent and the Grenadines', 'Bermuda', 'Sint Maarten (Dutch part)',\n",
    "'Virgin Islands (U.S.)', 'British Virgin Islands', 'Turks and Caicos Islands']\n",
    "\n",
    "am_centrale = [ 'Nicaragua', 'El Salvador','Belize', 'Costa Rica', 'Guatemala', 'Honduras', 'Panama','Cayman Islands', 'Puerto Rico']\n",
    "\n",
    "sous_groupes = ['Arab World', 'Central Europe and the Baltics', 'Caribbean small states',\n",
    " 'Euro area', 'East Asia & Pacific (excluding high income)','East Asia & Pacific',\n",
    " 'Europe & Central Asia (excluding high income)','Europe & Central Asia',\n",
    " 'European Union','Latin America & Caribbean (excluding high income)','Latin America & Caribbean',\n",
    "'North America','OECD members','East Asia & Pacific (IDA & IBRD countries)', 'Europe & Central Asia (IDA & IBRD countries)',\n",
    "'South Asia (IDA & IBRD)', 'South Asia']\n",
    "\n",
    "autre = [ 'Early-demographic dividend', 'High income', \n",
    "'Heavily indebted poor countries (HIPC)', 'IBRD only', 'IDA & IBRD total', 'IDA total',\n",
    "'IDA blend', 'IDA only', 'Fragile and conflict affected situations', 'Least developed countries: UN classification', 'Low income',\n",
    "'Lower middle income', 'Low & middle income', 'Late-demographic dividend', 'Middle East & North Africa', 'Middle income', 'Middle East & North Africa (excluding high income)','Other small states', 'Pre-demographic dividend',\n",
    "'Pacific island small states','Middle East & North Africa (IDA & IBRD countries)', 'Sub-Saharan Africa (IDA & IBRD countries)', \n",
    "'Post-demographic dividend', 'Sub-Saharan Africa (excluding high income)','Sub-Saharan Africa', 'Small states', 'Latin America & the Caribbean (IDA & IBRD countries)',\n",
    "'Upper middle income','World', 'OECD members' ]"
   ]
  },
  {
   "cell_type": "markdown",
   "metadata": {
    "collapsed": true
   },
   "source": [
    "### Epidemiology dataset"
   ]
  },
  {
   "cell_type": "code",
   "execution_count": 10,
   "metadata": {
    "collapsed": true,
    "scrolled": false
   },
   "outputs": [],
   "source": [
    "#Données mondiales pour chaque pays\n",
    "wb_data = pd.read_csv(\"/Users/Jenny/Desktop/P3A/epidemiology_dataset/WorldBank_data.csv\" , sep=\",\")"
   ]
  },
  {
   "cell_type": "code",
   "execution_count": 11,
   "metadata": {},
   "outputs": [
    {
     "name": "stdout",
     "output_type": "stream",
     "text": [
      "Shape: (11648, 875)\n"
     ]
    },
    {
     "data": {
      "text/html": [
       "<div>\n",
       "<style>\n",
       "    .dataframe thead tr:only-child th {\n",
       "        text-align: right;\n",
       "    }\n",
       "\n",
       "    .dataframe thead th {\n",
       "        text-align: left;\n",
       "    }\n",
       "\n",
       "    .dataframe tbody tr th {\n",
       "        vertical-align: top;\n",
       "    }\n",
       "</style>\n",
       "<table border=\"1\" class=\"dataframe\">\n",
       "  <thead>\n",
       "    <tr style=\"text-align: right;\">\n",
       "      <th></th>\n",
       "      <th>area_code</th>\n",
       "      <th>area</th>\n",
       "      <th>year</th>\n",
       "      <th>SE.ADT.1524.LT.FE.ZS</th>\n",
       "      <th>SE.ADT.1524.LT.FM.ZS</th>\n",
       "      <th>SE.ADT.1524.LT.MA.ZS</th>\n",
       "      <th>SE.ADT.1524.LT.ZS</th>\n",
       "      <th>SE.ADT.LITR.FE.ZS</th>\n",
       "      <th>SE.ADT.LITR.MA.ZS</th>\n",
       "      <th>SE.ADT.LITR.ZS</th>\n",
       "      <th>...</th>\n",
       "      <th>SL.UEM.TOTL.FE.ZS</th>\n",
       "      <th>SL.UEM.TOTL.MA.NE.ZS</th>\n",
       "      <th>SL.UEM.TOTL.MA.ZS</th>\n",
       "      <th>SL.UEM.TOTL.NE.ZS</th>\n",
       "      <th>SL.UEM.TOTL.ZS</th>\n",
       "      <th>SM.POP.NETM</th>\n",
       "      <th>SM.POP.REFG</th>\n",
       "      <th>SM.POP.REFG.OR</th>\n",
       "      <th>SM.POP.TOTL</th>\n",
       "      <th>SM.POP.TOTL.ZS</th>\n",
       "    </tr>\n",
       "  </thead>\n",
       "  <tbody>\n",
       "    <tr>\n",
       "      <th>column type</th>\n",
       "      <td>object</td>\n",
       "      <td>object</td>\n",
       "      <td>int64</td>\n",
       "      <td>float64</td>\n",
       "      <td>float64</td>\n",
       "      <td>float64</td>\n",
       "      <td>float64</td>\n",
       "      <td>float64</td>\n",
       "      <td>float64</td>\n",
       "      <td>float64</td>\n",
       "      <td>...</td>\n",
       "      <td>float64</td>\n",
       "      <td>float64</td>\n",
       "      <td>float64</td>\n",
       "      <td>float64</td>\n",
       "      <td>float64</td>\n",
       "      <td>float64</td>\n",
       "      <td>float64</td>\n",
       "      <td>float64</td>\n",
       "      <td>float64</td>\n",
       "      <td>float64</td>\n",
       "    </tr>\n",
       "    <tr>\n",
       "      <th>null values</th>\n",
       "      <td>0</td>\n",
       "      <td>0</td>\n",
       "      <td>0</td>\n",
       "      <td>10701</td>\n",
       "      <td>10701</td>\n",
       "      <td>10701</td>\n",
       "      <td>10700</td>\n",
       "      <td>10688</td>\n",
       "      <td>10688</td>\n",
       "      <td>10686</td>\n",
       "      <td>...</td>\n",
       "      <td>5902</td>\n",
       "      <td>7766</td>\n",
       "      <td>5902</td>\n",
       "      <td>7072</td>\n",
       "      <td>5902</td>\n",
       "      <td>9528</td>\n",
       "      <td>6533</td>\n",
       "      <td>5858</td>\n",
       "      <td>9230</td>\n",
       "      <td>10136</td>\n",
       "    </tr>\n",
       "    <tr>\n",
       "      <th>null values (%)</th>\n",
       "      <td>0</td>\n",
       "      <td>0</td>\n",
       "      <td>0</td>\n",
       "      <td>91.8698</td>\n",
       "      <td>91.8698</td>\n",
       "      <td>91.8698</td>\n",
       "      <td>91.8613</td>\n",
       "      <td>91.7582</td>\n",
       "      <td>91.7582</td>\n",
       "      <td>91.7411</td>\n",
       "      <td>...</td>\n",
       "      <td>50.6696</td>\n",
       "      <td>66.6724</td>\n",
       "      <td>50.6696</td>\n",
       "      <td>60.7143</td>\n",
       "      <td>50.6696</td>\n",
       "      <td>81.7995</td>\n",
       "      <td>56.0869</td>\n",
       "      <td>50.2919</td>\n",
       "      <td>79.2411</td>\n",
       "      <td>87.0192</td>\n",
       "    </tr>\n",
       "  </tbody>\n",
       "</table>\n",
       "<p>3 rows × 875 columns</p>\n",
       "</div>"
      ],
      "text/plain": [
       "                area_code    area   year SE.ADT.1524.LT.FE.ZS  \\\n",
       "column type        object  object  int64              float64   \n",
       "null values             0       0      0                10701   \n",
       "null values (%)         0       0      0              91.8698   \n",
       "\n",
       "                SE.ADT.1524.LT.FM.ZS SE.ADT.1524.LT.MA.ZS SE.ADT.1524.LT.ZS  \\\n",
       "column type                  float64              float64           float64   \n",
       "null values                    10701                10701             10700   \n",
       "null values (%)              91.8698              91.8698           91.8613   \n",
       "\n",
       "                SE.ADT.LITR.FE.ZS SE.ADT.LITR.MA.ZS SE.ADT.LITR.ZS  \\\n",
       "column type               float64           float64        float64   \n",
       "null values                 10688             10688          10686   \n",
       "null values (%)           91.7582           91.7582        91.7411   \n",
       "\n",
       "                     ...       SL.UEM.TOTL.FE.ZS SL.UEM.TOTL.MA.NE.ZS  \\\n",
       "column type          ...                 float64              float64   \n",
       "null values          ...                    5902                 7766   \n",
       "null values (%)      ...                 50.6696              66.6724   \n",
       "\n",
       "                SL.UEM.TOTL.MA.ZS SL.UEM.TOTL.NE.ZS SL.UEM.TOTL.ZS  \\\n",
       "column type               float64           float64        float64   \n",
       "null values                  5902              7072           5902   \n",
       "null values (%)           50.6696           60.7143        50.6696   \n",
       "\n",
       "                SM.POP.NETM SM.POP.REFG SM.POP.REFG.OR SM.POP.TOTL  \\\n",
       "column type         float64     float64        float64     float64   \n",
       "null values            9528        6533           5858        9230   \n",
       "null values (%)     81.7995     56.0869        50.2919     79.2411   \n",
       "\n",
       "                SM.POP.TOTL.ZS  \n",
       "column type            float64  \n",
       "null values              10136  \n",
       "null values (%)        87.0192  \n",
       "\n",
       "[3 rows x 875 columns]"
      ]
     },
     "execution_count": 11,
     "metadata": {},
     "output_type": "execute_result"
    }
   ],
   "source": [
    "# info on variable types and filling factor\n",
    "\n",
    "print('Shape:',wb_data.shape)\n",
    "\n",
    "tab_info = pd.DataFrame(wb_data.dtypes).T.rename(index={0:'column type'})\n",
    "tab_info = tab_info.append(pd.DataFrame(wb_data.isnull().sum()).T.rename(index={0:'null values'}))\n",
    "tab_info = tab_info.append(pd.DataFrame(wb_data.isnull().sum()/wb_data.shape[0]*100).T.rename(index={0:'null values (%)'}))\n",
    "tab_info"
   ]
  },
  {
   "cell_type": "code",
   "execution_count": 17,
   "metadata": {},
   "outputs": [
    {
     "data": {
      "image/png": "[encoded data removed]",
      "text/plain": [
       "<matplotlib.figure.Figure at 0x1058bc908>"
      ]
     },
     "metadata": {},
     "output_type": "display_data"
    }
   ],
   "source": [
    "# Nullity or missing values by columns\n",
    "msno.matrix(df=wb_data.iloc[:,3:38], figsize=(5, 4), color=(0.42, 0.1, 0.05))"
   ]
  },
  {
   "cell_type": "markdown",
   "metadata": {},
   "source": [
    "### Mortalite dataset"
   ]
  },
  {
   "cell_type": "code",
   "execution_count": 18,
   "metadata": {
    "scrolled": false
   },
   "outputs": [
    {
     "name": "stderr",
     "output_type": "stream",
     "text": [
      "/Users/Jenny/anaconda3/lib/python3.6/site-packages/IPython/core/interactiveshell.py:2698: DtypeWarning:\n",
      "\n",
      "Columns (5) have mixed types. Specify dtype option on import or set low_memory=False.\n",
      "\n"
     ]
    }
   ],
   "source": [
    "#Données de mortalité selon les pays\n",
    "world_mortality = pd.read_csv(\"/Users/Jenny/Desktop/P3A/mortalite_dataset/world_mortality.csv\" , sep=\",\")"
   ]
  },
  {
   "cell_type": "code",
   "execution_count": 19,
   "metadata": {},
   "outputs": [
    {
     "name": "stdout",
     "output_type": "stream",
     "text": [
      "Shape: (3191598, 9)\n"
     ]
    },
    {
     "data": {
      "text/html": [
       "<div>\n",
       "<style>\n",
       "    .dataframe thead tr:only-child th {\n",
       "        text-align: right;\n",
       "    }\n",
       "\n",
       "    .dataframe thead th {\n",
       "        text-align: left;\n",
       "    }\n",
       "\n",
       "    .dataframe tbody tr th {\n",
       "        vertical-align: top;\n",
       "    }\n",
       "</style>\n",
       "<table border=\"1\" class=\"dataframe\">\n",
       "  <thead>\n",
       "    <tr style=\"text-align: right;\">\n",
       "      <th></th>\n",
       "      <th>Unnamed: 0</th>\n",
       "      <th>type</th>\n",
       "      <th>gender</th>\n",
       "      <th>age</th>\n",
       "      <th>country</th>\n",
       "      <th>locality</th>\n",
       "      <th>ethnicity</th>\n",
       "      <th>period</th>\n",
       "      <th>incidence</th>\n",
       "    </tr>\n",
       "  </thead>\n",
       "  <tbody>\n",
       "    <tr>\n",
       "      <th>column type</th>\n",
       "      <td>int64</td>\n",
       "      <td>object</td>\n",
       "      <td>int64</td>\n",
       "      <td>int64</td>\n",
       "      <td>object</td>\n",
       "      <td>object</td>\n",
       "      <td>float64</td>\n",
       "      <td>int64</td>\n",
       "      <td>int64</td>\n",
       "    </tr>\n",
       "    <tr>\n",
       "      <th>null values</th>\n",
       "      <td>0</td>\n",
       "      <td>0</td>\n",
       "      <td>0</td>\n",
       "      <td>0</td>\n",
       "      <td>0</td>\n",
       "      <td>2942190</td>\n",
       "      <td>3191598</td>\n",
       "      <td>0</td>\n",
       "      <td>0</td>\n",
       "    </tr>\n",
       "    <tr>\n",
       "      <th>null values (%)</th>\n",
       "      <td>0</td>\n",
       "      <td>0</td>\n",
       "      <td>0</td>\n",
       "      <td>0</td>\n",
       "      <td>0</td>\n",
       "      <td>92.1855</td>\n",
       "      <td>100</td>\n",
       "      <td>0</td>\n",
       "      <td>0</td>\n",
       "    </tr>\n",
       "  </tbody>\n",
       "</table>\n",
       "</div>"
      ],
      "text/plain": [
       "                Unnamed: 0    type gender    age country locality ethnicity  \\\n",
       "column type          int64  object  int64  int64  object   object   float64   \n",
       "null values              0       0      0      0       0  2942190   3191598   \n",
       "null values (%)          0       0      0      0       0  92.1855       100   \n",
       "\n",
       "                period incidence  \n",
       "column type      int64     int64  \n",
       "null values          0         0  \n",
       "null values (%)      0         0  "
      ]
     },
     "execution_count": 19,
     "metadata": {},
     "output_type": "execute_result"
    }
   ],
   "source": [
    "# info on variable types and filling factor\n",
    "\n",
    "print('Shape:',world_mortality.shape)\n",
    "\n",
    "tab_info = pd.DataFrame(world_mortality.dtypes).T.rename(index={0:'column type'})\n",
    "tab_info = tab_info.append(pd.DataFrame(world_mortality.isnull().sum()).T.rename(index={0:'null values'}))\n",
    "tab_info = tab_info.append(pd.DataFrame(world_mortality.isnull().sum()/world_mortality.shape[0]*100).T.rename(index={0:'null values (%)'}))\n",
    "tab_info"
   ]
  },
  {
   "cell_type": "code",
   "execution_count": 20,
   "metadata": {
    "scrolled": true
   },
   "outputs": [
    {
     "data": {
      "image/png": "[encoded data removed]",
      "text/plain": [
       "<matplotlib.figure.Figure at 0x106a89e80>"
      ]
     },
     "metadata": {},
     "output_type": "display_data"
    }
   ],
   "source": [
    "# Nullity or missing values by columns\n",
    "msno.matrix(df=world_mortality, figsize=(5, 4), color=(0.42, 0.1, 0.05))"
   ]
  },
  {
   "cell_type": "code",
   "execution_count": 21,
   "metadata": {
    "collapsed": true
   },
   "outputs": [],
   "source": [
    "# Drop first column, useless\n",
    "if 'Unnamed: 0' in world_mortality:\n",
    "    world_mortality = world_mortality.drop(['Unnamed: 0'], axis=1)\n",
    "\n",
    "# Drop missing values locality and ethnicity\n",
    "#if 'locality' in world_mortality:\n",
    "#    world_mortality = world_mortality.drop(['locality'], axis=1)\n",
    "if 'ethnicity' in world_mortality:\n",
    "    world_mortality = world_mortality.drop(['ethnicity'], axis=1)"
   ]
  },
  {
   "cell_type": "markdown",
   "metadata": {},
   "source": [
    "The two following functions permits to access the reduced dataframe on a group of countries and a group of cancers"
   ]
  },
  {
   "cell_type": "code",
   "execution_count": 22,
   "metadata": {
    "collapsed": true
   },
   "outputs": [],
   "source": [
    "def world_mortality_reduit(groupe_pays, groupe_cancers):\n",
    "    #Keep only one group of countries\n",
    "    if groupe_pays != 'No':\n",
    "        world_mortality_pays = world_mortality.loc[world_mortality['country'].isin(groupe_pays)]\n",
    "    else:\n",
    "        world_mortality_pays = world_mortality\n",
    "    #Keep only some type of cancers\n",
    "    world_mortality_red = world_mortality_pays.loc[world_mortality_pays.type.str.contains(groupe_cancers[0])]\n",
    "    for cancer in groupe_cancers:\n",
    "        w1 = world_mortality_pays.loc[world_mortality_pays.type.str.contains(cancer)]\n",
    "        world_mortality_red = pd.concat([world_mortality_red, w1]) \n",
    "    return world_mortality_red\n",
    "    \n",
    "def nb_exemples_pays(groupe_pays, groupe_cancers):\n",
    "    return {'nombre de pays sur ' + str(len(groupe_pays)) : len(world_mortality_reduit(groupe_pays, groupe_cancers).country.unique()), 'nombre exemples' : world_mortality_reduit(groupe_pays, groupe_cancers).shape[0]}"
   ]
  },
  {
   "cell_type": "code",
   "execution_count": 23,
   "metadata": {
    "collapsed": true,
    "scrolled": false
   },
   "outputs": [],
   "source": [
    "pays = {'afrique' : afrique, 'europe' : europe, 'am_sud' : am_sud, 'am_nord' : am_nord, 'am_centrale' : am_centrale, 'oceanie' : oceanie, 'asie' : asie}\n",
    "cancers = {'cancers gynécologues' : ['C5', 'C60', 'C61', 'C62', 'C63', 'C64', 'C65', 'C66', 'C67', 'C68'],\n",
    "           'cancers du pancréas' : ['C25'],\n",
    "           'cancers digestifs plus fréquents (4)' : ['C15', 'C16', 'C18', 'C22']}\n",
    "\n",
    "#rep = {}\n",
    "#for nom_pays, liste_pays in pays.items():\n",
    "#    for nom_cancers, liste_cancers in cancers.items():\n",
    "#        rep[nom_pays + ' et ' + nom_cancers] = nb_exemples_pays(liste_pays, liste_cancers)\n",
    "#print (rep)"
   ]
  },
  {
   "cell_type": "code",
   "execution_count": 24,
   "metadata": {
    "collapsed": true
   },
   "outputs": [],
   "source": [
    "#import pprint\n",
    "#pp = pprint.PrettyPrinter(indent=4)\n",
    "#pp.pprint(rep)"
   ]
  },
  {
   "cell_type": "markdown",
   "metadata": {},
   "source": [
    "Le plus abordable semble être l'Asie: c'est un territoire dont les pays sont en voie de développement, qui peuvent être séparés en plusieurs sous-groupes et qui contiennent tout de même presque 1 millions de données.\n",
    "\n",
    "Les cancers les plus répertoriés sont les cancers gynécologiques. Nous nous intéresserons donc à ceux-ci. "
   ]
  },
  {
   "cell_type": "code",
   "execution_count": 25,
   "metadata": {
    "collapsed": true
   },
   "outputs": [],
   "source": [
    "world_mortality_red = world_mortality_reduit('No', ['C5', 'C60', 'C61', 'C62', 'C63', 'C64', 'C65', 'C66', 'C67', 'C68'])"
   ]
  },
  {
   "cell_type": "code",
   "execution_count": 26,
   "metadata": {
    "collapsed": true
   },
   "outputs": [],
   "source": [
    "world_mortality_red = world_mortality_red.drop('locality', axis = 1)\n",
    "world_mortality_red = world_mortality_red.drop('type', axis = 1)"
   ]
  },
  {
   "cell_type": "code",
   "execution_count": 27,
   "metadata": {
    "collapsed": true,
    "scrolled": false
   },
   "outputs": [],
   "source": [
    "world_mortality_red = world_mortality_red.groupby(['country', 'period','gender', 'age'], as_index = False).sum()"
   ]
  },
  {
   "cell_type": "code",
   "execution_count": 28,
   "metadata": {},
   "outputs": [
    {
     "data": {
      "text/plain": [
       "(127548, 5)"
      ]
     },
     "execution_count": 28,
     "metadata": {},
     "output_type": "execute_result"
    }
   ],
   "source": [
    "world_mortality_red.shape"
   ]
  },
  {
   "cell_type": "code",
   "execution_count": 29,
   "metadata": {},
   "outputs": [
    {
     "data": {
      "text/plain": [
       "(1950, 2013, 64)"
      ]
     },
     "execution_count": 29,
     "metadata": {},
     "output_type": "execute_result"
    }
   ],
   "source": [
    "(min(world_mortality_red.period.unique()), max(world_mortality_red.period.unique()), world_mortality_red.period.unique().shape[0])"
   ]
  },
  {
   "cell_type": "markdown",
   "metadata": {},
   "source": [
    "### Incidence dataset"
   ]
  },
  {
   "cell_type": "code",
   "execution_count": 30,
   "metadata": {},
   "outputs": [
    {
     "name": "stderr",
     "output_type": "stream",
     "text": [
      "/Users/Jenny/anaconda3/lib/python3.6/site-packages/IPython/core/interactiveshell.py:2698: DtypeWarning:\n",
      "\n",
      "Columns (5) have mixed types. Specify dtype option on import or set low_memory=False.\n",
      "\n"
     ]
    }
   ],
   "source": [
    "#Données de l'incidence des cancers\n",
    "incidence = pd.read_csv(\"/Users/Jenny/Desktop/P3A/incidence_dataset/training.txt\" , sep=\";\")"
   ]
  },
  {
   "cell_type": "code",
   "execution_count": 31,
   "metadata": {},
   "outputs": [
    {
     "data": {
      "text/html": [
       "<div>\n",
       "<style>\n",
       "    .dataframe thead tr:only-child th {\n",
       "        text-align: right;\n",
       "    }\n",
       "\n",
       "    .dataframe thead th {\n",
       "        text-align: left;\n",
       "    }\n",
       "\n",
       "    .dataframe tbody tr th {\n",
       "        vertical-align: top;\n",
       "    }\n",
       "</style>\n",
       "<table border=\"1\" class=\"dataframe\">\n",
       "  <thead>\n",
       "    <tr style=\"text-align: right;\">\n",
       "      <th></th>\n",
       "      <th>type</th>\n",
       "      <th>gender</th>\n",
       "      <th>age</th>\n",
       "      <th>country</th>\n",
       "      <th>town</th>\n",
       "      <th>ethnicity</th>\n",
       "      <th>period</th>\n",
       "      <th>incidence</th>\n",
       "    </tr>\n",
       "  </thead>\n",
       "  <tbody>\n",
       "    <tr>\n",
       "      <th>0</th>\n",
       "      <td>C00-96 but C44</td>\n",
       "      <td>1</td>\n",
       "      <td>1</td>\n",
       "      <td>Canada</td>\n",
       "      <td>Manitoba</td>\n",
       "      <td>NaN</td>\n",
       "      <td>1958.0</td>\n",
       "      <td>1</td>\n",
       "    </tr>\n",
       "    <tr>\n",
       "      <th>1</th>\n",
       "      <td>C00-96 but C44</td>\n",
       "      <td>1</td>\n",
       "      <td>2</td>\n",
       "      <td>Canada</td>\n",
       "      <td>Manitoba</td>\n",
       "      <td>NaN</td>\n",
       "      <td>1958.0</td>\n",
       "      <td>3</td>\n",
       "    </tr>\n",
       "    <tr>\n",
       "      <th>2</th>\n",
       "      <td>C00-96 but C44</td>\n",
       "      <td>1</td>\n",
       "      <td>3</td>\n",
       "      <td>Canada</td>\n",
       "      <td>Manitoba</td>\n",
       "      <td>NaN</td>\n",
       "      <td>1958.0</td>\n",
       "      <td>6</td>\n",
       "    </tr>\n",
       "    <tr>\n",
       "      <th>3</th>\n",
       "      <td>C00-96 but C44</td>\n",
       "      <td>1</td>\n",
       "      <td>4</td>\n",
       "      <td>Canada</td>\n",
       "      <td>Manitoba</td>\n",
       "      <td>NaN</td>\n",
       "      <td>1958.0</td>\n",
       "      <td>3</td>\n",
       "    </tr>\n",
       "    <tr>\n",
       "      <th>4</th>\n",
       "      <td>C00-96 but C44</td>\n",
       "      <td>1</td>\n",
       "      <td>5</td>\n",
       "      <td>Canada</td>\n",
       "      <td>Manitoba</td>\n",
       "      <td>NaN</td>\n",
       "      <td>1958.0</td>\n",
       "      <td>4</td>\n",
       "    </tr>\n",
       "  </tbody>\n",
       "</table>\n",
       "</div>"
      ],
      "text/plain": [
       "             type  gender  age country      town ethnicity  period  incidence\n",
       "0  C00-96 but C44       1    1  Canada  Manitoba       NaN  1958.0          1\n",
       "1  C00-96 but C44       1    2  Canada  Manitoba       NaN  1958.0          3\n",
       "2  C00-96 but C44       1    3  Canada  Manitoba       NaN  1958.0          6\n",
       "3  C00-96 but C44       1    4  Canada  Manitoba       NaN  1958.0          3\n",
       "4  C00-96 but C44       1    5  Canada  Manitoba       NaN  1958.0          4"
      ]
     },
     "execution_count": 31,
     "metadata": {},
     "output_type": "execute_result"
    }
   ],
   "source": [
    "incidence.head()"
   ]
  },
  {
   "cell_type": "markdown",
   "metadata": {},
   "source": [
    "## Indicators"
   ]
  },
  {
   "cell_type": "code",
   "execution_count": 32,
   "metadata": {
    "collapsed": true
   },
   "outputs": [],
   "source": [
    "wb_indicators = pd.read_csv(\"/Users/Jenny/Desktop/P3A/epidemiology_dataset/WorldBank_indicators.csv\" , sep=\",\")"
   ]
  },
  {
   "cell_type": "code",
   "execution_count": 33,
   "metadata": {
    "collapsed": true
   },
   "outputs": [],
   "source": [
    "#wb_indicators.loc[wb_indicators.Code.str.contains(\"AG.\")]"
   ]
  },
  {
   "cell_type": "markdown",
   "metadata": {},
   "source": [
    "# Training"
   ]
  },
  {
   "cell_type": "code",
   "execution_count": 34,
   "metadata": {
    "collapsed": true
   },
   "outputs": [],
   "source": [
    "pays_etudies = world_mortality_red.country.unique()\n",
    "wb_data_red = wb_data.loc[wb_data['area'].isin(pays_etudies)]\n",
    "wb_data_red = wb_data_red.loc[wb_data_red['year'].isin(world_mortality.period)]"
   ]
  },
  {
   "cell_type": "code",
   "execution_count": 35,
   "metadata": {
    "collapsed": true
   },
   "outputs": [],
   "source": [
    "world_mortality_red = world_mortality_red.loc[world_mortality_red['period'].isin(wb_data_red.year)]"
   ]
  },
  {
   "cell_type": "code",
   "execution_count": 36,
   "metadata": {
    "collapsed": true
   },
   "outputs": [],
   "source": [
    "columns = wb_data_red.columns"
   ]
  },
  {
   "cell_type": "code",
   "execution_count": 37,
   "metadata": {
    "collapsed": true
   },
   "outputs": [],
   "source": [
    "period = world_mortality_red.period.unique()"
   ]
  },
  {
   "cell_type": "code",
   "execution_count": 38,
   "metadata": {
    "collapsed": true,
    "scrolled": false
   },
   "outputs": [],
   "source": [
    "wb_data_red = wb_data_red.loc[wb_data_red['area'].isin(pays_etudies)]\n",
    "#wb_data_red = wb_data_red.drop('area_code', axis = 1)"
   ]
  },
  {
   "cell_type": "code",
   "execution_count": 39,
   "metadata": {
    "collapsed": true
   },
   "outputs": [],
   "source": [
    "wb_data_red = wb_data_red.rename(columns={'year': 'period', 'area' : 'country'})"
   ]
  },
  {
   "cell_type": "code",
   "execution_count": 40,
   "metadata": {},
   "outputs": [
    {
     "data": {
      "text/html": [
       "<div>\n",
       "<style>\n",
       "    .dataframe thead tr:only-child th {\n",
       "        text-align: right;\n",
       "    }\n",
       "\n",
       "    .dataframe thead th {\n",
       "        text-align: left;\n",
       "    }\n",
       "\n",
       "    .dataframe tbody tr th {\n",
       "        vertical-align: top;\n",
       "    }\n",
       "</style>\n",
       "<table border=\"1\" class=\"dataframe\">\n",
       "  <thead>\n",
       "    <tr style=\"text-align: right;\">\n",
       "      <th></th>\n",
       "      <th>area_code</th>\n",
       "      <th>country</th>\n",
       "      <th>period</th>\n",
       "      <th>SE.ADT.1524.LT.FE.ZS</th>\n",
       "      <th>SE.ADT.1524.LT.FM.ZS</th>\n",
       "      <th>SE.ADT.1524.LT.MA.ZS</th>\n",
       "      <th>SE.ADT.1524.LT.ZS</th>\n",
       "      <th>SE.ADT.LITR.FE.ZS</th>\n",
       "      <th>SE.ADT.LITR.MA.ZS</th>\n",
       "      <th>SE.ADT.LITR.ZS</th>\n",
       "      <th>...</th>\n",
       "      <th>SL.UEM.TOTL.FE.ZS</th>\n",
       "      <th>SL.UEM.TOTL.MA.NE.ZS</th>\n",
       "      <th>SL.UEM.TOTL.MA.ZS</th>\n",
       "      <th>SL.UEM.TOTL.NE.ZS</th>\n",
       "      <th>SL.UEM.TOTL.ZS</th>\n",
       "      <th>SM.POP.NETM</th>\n",
       "      <th>SM.POP.REFG</th>\n",
       "      <th>SM.POP.REFG.OR</th>\n",
       "      <th>SM.POP.TOTL</th>\n",
       "      <th>SM.POP.TOTL.ZS</th>\n",
       "    </tr>\n",
       "  </thead>\n",
       "  <tbody>\n",
       "    <tr>\n",
       "      <th>138</th>\n",
       "      <td>ALB</td>\n",
       "      <td>Albania</td>\n",
       "      <td>1970</td>\n",
       "      <td>NaN</td>\n",
       "      <td>NaN</td>\n",
       "      <td>NaN</td>\n",
       "      <td>NaN</td>\n",
       "      <td>NaN</td>\n",
       "      <td>NaN</td>\n",
       "      <td>NaN</td>\n",
       "      <td>...</td>\n",
       "      <td>NaN</td>\n",
       "      <td>NaN</td>\n",
       "      <td>NaN</td>\n",
       "      <td>NaN</td>\n",
       "      <td>NaN</td>\n",
       "      <td>NaN</td>\n",
       "      <td>NaN</td>\n",
       "      <td>NaN</td>\n",
       "      <td>54045.0</td>\n",
       "      <td>NaN</td>\n",
       "    </tr>\n",
       "    <tr>\n",
       "      <th>139</th>\n",
       "      <td>ALB</td>\n",
       "      <td>Albania</td>\n",
       "      <td>1971</td>\n",
       "      <td>NaN</td>\n",
       "      <td>NaN</td>\n",
       "      <td>NaN</td>\n",
       "      <td>NaN</td>\n",
       "      <td>NaN</td>\n",
       "      <td>NaN</td>\n",
       "      <td>NaN</td>\n",
       "      <td>...</td>\n",
       "      <td>NaN</td>\n",
       "      <td>NaN</td>\n",
       "      <td>NaN</td>\n",
       "      <td>NaN</td>\n",
       "      <td>NaN</td>\n",
       "      <td>NaN</td>\n",
       "      <td>NaN</td>\n",
       "      <td>NaN</td>\n",
       "      <td>NaN</td>\n",
       "      <td>NaN</td>\n",
       "    </tr>\n",
       "    <tr>\n",
       "      <th>140</th>\n",
       "      <td>ALB</td>\n",
       "      <td>Albania</td>\n",
       "      <td>1972</td>\n",
       "      <td>NaN</td>\n",
       "      <td>NaN</td>\n",
       "      <td>NaN</td>\n",
       "      <td>NaN</td>\n",
       "      <td>NaN</td>\n",
       "      <td>NaN</td>\n",
       "      <td>NaN</td>\n",
       "      <td>...</td>\n",
       "      <td>NaN</td>\n",
       "      <td>NaN</td>\n",
       "      <td>NaN</td>\n",
       "      <td>NaN</td>\n",
       "      <td>NaN</td>\n",
       "      <td>-99.0</td>\n",
       "      <td>NaN</td>\n",
       "      <td>NaN</td>\n",
       "      <td>NaN</td>\n",
       "      <td>NaN</td>\n",
       "    </tr>\n",
       "    <tr>\n",
       "      <th>141</th>\n",
       "      <td>ALB</td>\n",
       "      <td>Albania</td>\n",
       "      <td>1973</td>\n",
       "      <td>NaN</td>\n",
       "      <td>NaN</td>\n",
       "      <td>NaN</td>\n",
       "      <td>NaN</td>\n",
       "      <td>NaN</td>\n",
       "      <td>NaN</td>\n",
       "      <td>NaN</td>\n",
       "      <td>...</td>\n",
       "      <td>NaN</td>\n",
       "      <td>NaN</td>\n",
       "      <td>NaN</td>\n",
       "      <td>NaN</td>\n",
       "      <td>NaN</td>\n",
       "      <td>NaN</td>\n",
       "      <td>NaN</td>\n",
       "      <td>NaN</td>\n",
       "      <td>NaN</td>\n",
       "      <td>NaN</td>\n",
       "    </tr>\n",
       "    <tr>\n",
       "      <th>142</th>\n",
       "      <td>ALB</td>\n",
       "      <td>Albania</td>\n",
       "      <td>1974</td>\n",
       "      <td>NaN</td>\n",
       "      <td>NaN</td>\n",
       "      <td>NaN</td>\n",
       "      <td>NaN</td>\n",
       "      <td>NaN</td>\n",
       "      <td>NaN</td>\n",
       "      <td>NaN</td>\n",
       "      <td>...</td>\n",
       "      <td>NaN</td>\n",
       "      <td>NaN</td>\n",
       "      <td>NaN</td>\n",
       "      <td>NaN</td>\n",
       "      <td>NaN</td>\n",
       "      <td>NaN</td>\n",
       "      <td>NaN</td>\n",
       "      <td>NaN</td>\n",
       "      <td>NaN</td>\n",
       "      <td>NaN</td>\n",
       "    </tr>\n",
       "  </tbody>\n",
       "</table>\n",
       "<p>5 rows × 875 columns</p>\n",
       "</div>"
      ],
      "text/plain": [
       "    area_code  country  period  SE.ADT.1524.LT.FE.ZS  SE.ADT.1524.LT.FM.ZS  \\\n",
       "138       ALB  Albania    1970                   NaN                   NaN   \n",
       "139       ALB  Albania    1971                   NaN                   NaN   \n",
       "140       ALB  Albania    1972                   NaN                   NaN   \n",
       "141       ALB  Albania    1973                   NaN                   NaN   \n",
       "142       ALB  Albania    1974                   NaN                   NaN   \n",
       "\n",
       "     SE.ADT.1524.LT.MA.ZS  SE.ADT.1524.LT.ZS  SE.ADT.LITR.FE.ZS  \\\n",
       "138                   NaN                NaN                NaN   \n",
       "139                   NaN                NaN                NaN   \n",
       "140                   NaN                NaN                NaN   \n",
       "141                   NaN                NaN                NaN   \n",
       "142                   NaN                NaN                NaN   \n",
       "\n",
       "     SE.ADT.LITR.MA.ZS  SE.ADT.LITR.ZS       ...        SL.UEM.TOTL.FE.ZS  \\\n",
       "138                NaN             NaN       ...                      NaN   \n",
       "139                NaN             NaN       ...                      NaN   \n",
       "140                NaN             NaN       ...                      NaN   \n",
       "141                NaN             NaN       ...                      NaN   \n",
       "142                NaN             NaN       ...                      NaN   \n",
       "\n",
       "     SL.UEM.TOTL.MA.NE.ZS  SL.UEM.TOTL.MA.ZS  SL.UEM.TOTL.NE.ZS  \\\n",
       "138                   NaN                NaN                NaN   \n",
       "139                   NaN                NaN                NaN   \n",
       "140                   NaN                NaN                NaN   \n",
       "141                   NaN                NaN                NaN   \n",
       "142                   NaN                NaN                NaN   \n",
       "\n",
       "     SL.UEM.TOTL.ZS  SM.POP.NETM  SM.POP.REFG  SM.POP.REFG.OR  SM.POP.TOTL  \\\n",
       "138             NaN          NaN          NaN             NaN      54045.0   \n",
       "139             NaN          NaN          NaN             NaN          NaN   \n",
       "140             NaN        -99.0          NaN             NaN          NaN   \n",
       "141             NaN          NaN          NaN             NaN          NaN   \n",
       "142             NaN          NaN          NaN             NaN          NaN   \n",
       "\n",
       "     SM.POP.TOTL.ZS  \n",
       "138             NaN  \n",
       "139             NaN  \n",
       "140             NaN  \n",
       "141             NaN  \n",
       "142             NaN  \n",
       "\n",
       "[5 rows x 875 columns]"
      ]
     },
     "execution_count": 40,
     "metadata": {},
     "output_type": "execute_result"
    }
   ],
   "source": [
    "wb_data_red.head()"
   ]
  },
  {
   "cell_type": "code",
   "execution_count": 41,
   "metadata": {
    "collapsed": true
   },
   "outputs": [],
   "source": [
    "wb_data_red = wb_data_red.drop('area_code', axis = 1)"
   ]
  },
  {
   "cell_type": "markdown",
   "metadata": {},
   "source": [
    "On récupère les deux fichiers pour les merge avec dataiku"
   ]
  },
  {
   "cell_type": "code",
   "execution_count": 42,
   "metadata": {
    "collapsed": true
   },
   "outputs": [],
   "source": [
    "wb_data_red.to_csv(\"./epidemium_wb_data_red.csv\")"
   ]
  },
  {
   "cell_type": "code",
   "execution_count": 43,
   "metadata": {
    "collapsed": true
   },
   "outputs": [],
   "source": [
    "world_mortality_red.to_csv('./epidemium_world_mortality_red.csv')"
   ]
  },
  {
   "cell_type": "markdown",
   "metadata": {},
   "source": [
    "On récupère le fichier merged"
   ]
  },
  {
   "cell_type": "code",
   "execution_count": 44,
   "metadata": {
    "collapsed": true
   },
   "outputs": [],
   "source": [
    "df = pd.read_csv(\"/Users/Jenny/Desktop/P3A/epidemium_train_test.csv\" , sep=\",\")"
   ]
  },
  {
   "cell_type": "code",
   "execution_count": 45,
   "metadata": {},
   "outputs": [
    {
     "data": {
      "text/plain": [
       "(14436, 87)"
      ]
     },
     "execution_count": 45,
     "metadata": {},
     "output_type": "execute_result"
    }
   ],
   "source": [
    "df.shape"
   ]
  },
  {
   "cell_type": "markdown",
   "metadata": {},
   "source": [
    "Feature importance"
   ]
  },
  {
   "cell_type": "markdown",
   "metadata": {},
   "source": [
    "On ne garde que les 15 features les plus importantes"
   ]
  },
  {
   "cell_type": "code",
   "execution_count": 52,
   "metadata": {
    "scrolled": false
   },
   "outputs": [
    {
     "ename": "AttributeError",
     "evalue": "module 'xgboost' has no attribute 'DMatrix'",
     "output_type": "error",
     "traceback": [
      "\u001b[0;31m---------------------------------------------------------------------------\u001b[0m",
      "\u001b[0;31mAttributeError\u001b[0m                            Traceback (most recent call last)",
      "\u001b[0;32m<ipython-input-52-1c03dc058ec0>\u001b[0m in \u001b[0;36m<module>\u001b[0;34m()\u001b[0m\n\u001b[1;32m     10\u001b[0m \u001b[0;34m\u001b[0m\u001b[0m\n\u001b[1;32m     11\u001b[0m \u001b[0;34m\u001b[0m\u001b[0m\n\u001b[0;32m---> 12\u001b[0;31m \u001b[0md_train\u001b[0m \u001b[0;34m=\u001b[0m \u001b[0mxgb\u001b[0m\u001b[0;34m.\u001b[0m\u001b[0mDMatrix\u001b[0m\u001b[0;34m(\u001b[0m\u001b[0mX_train\u001b[0m\u001b[0;34m,\u001b[0m \u001b[0my_train\u001b[0m\u001b[0;34m,\u001b[0m \u001b[0mfeature_names\u001b[0m\u001b[0;34m=\u001b[0m\u001b[0mX_train\u001b[0m\u001b[0;34m.\u001b[0m\u001b[0mcolumns\u001b[0m\u001b[0;34m.\u001b[0m\u001b[0mvalues\u001b[0m\u001b[0;34m)\u001b[0m\u001b[0;34m\u001b[0m\u001b[0m\n\u001b[0m\u001b[1;32m     13\u001b[0m \u001b[0mmodel\u001b[0m \u001b[0;34m=\u001b[0m \u001b[0mxgb\u001b[0m\u001b[0;34m.\u001b[0m\u001b[0mtrain\u001b[0m\u001b[0;34m(\u001b[0m\u001b[0mdict\u001b[0m\u001b[0;34m(\u001b[0m\u001b[0mxgb_params\u001b[0m\u001b[0;34m,\u001b[0m \u001b[0msilent\u001b[0m\u001b[0;34m=\u001b[0m\u001b[0;36m0\u001b[0m\u001b[0;34m)\u001b[0m\u001b[0;34m,\u001b[0m \u001b[0md_train\u001b[0m\u001b[0;34m,\u001b[0m \u001b[0mnum_boost_round\u001b[0m \u001b[0;34m=\u001b[0m \u001b[0;36m100\u001b[0m\u001b[0;34m)\u001b[0m\u001b[0;34m\u001b[0m\u001b[0m\n\u001b[1;32m     14\u001b[0m \u001b[0;34m\u001b[0m\u001b[0m\n",
      "\u001b[0;31mAttributeError\u001b[0m: module 'xgboost' has no attribute 'DMatrix'"
     ]
    }
   ],
   "source": [
    "xgb_params = {\n",
    "    'eta': 0.05,\n",
    "    'max_depth': 8,\n",
    "    'subsample': 0.7,\n",
    "    'colsample_bytree': 0.7,\n",
    "    'objective': 'reg:linear',\n",
    "    'silent': 1,\n",
    "    'seed' : 0\n",
    "}\n",
    "\n",
    "\n",
    "d_train = xgb.DMatrix(X_train, y_train, feature_names=X_train.columns.values)\n",
    "model = xgb.train(dict(xgb_params, silent=0), d_train, num_boost_round = 100)\n",
    "\n",
    "importance = model.get_fscore()\n",
    "features_df = pd.DataFrame()\n",
    "features_df['feature'] = importance.keys()\n",
    "features_df['fscore'] = importance.values()\n",
    "features_df['fscore'] = features_df['fscore'] / features_df['fscore'].sum()\n",
    "features_df.sort_values(by = ['fscore'], ascending = True, inplace = True)\n",
    "\n",
    "plt.figure()\n",
    "features_df.plot(kind = 'barh', x = 'feature', y='fscore', legend = False, figsize = (10, 10))\n",
    "plt.title('XGBoost Feature Importance')\n",
    "plt.xlabel('fscore')\n",
    "plt.ylabel('features')\n",
    "plt.show()\n",
    "\n",
    "print(features_df)"
   ]
  },
  {
   "cell_type": "code",
   "execution_count": 46,
   "metadata": {
    "collapsed": true
   },
   "outputs": [],
   "source": [
    "important_features = ['AG.PRD.CROP.XD', \n",
    "                      'EN.ATM.GHGO.KT.CE', \n",
    "                      'SP.URB.TOTL', \n",
    "                      'EN.ATM.GHGT.KT.CE', \n",
    "                      'SP.RUR.TOTL',\n",
    "                     'AG.LND.TOTL.K2',\n",
    "                     'EN.ATM.METH.KT.CE',\n",
    "                     'EN.POP.DNST',\n",
    "                     'EN.ATM.NOXE.KT.CE',\n",
    "                     'AG.PRD.LVSK.XD',\n",
    "                     'AG.PRD.FOOD.XD',\n",
    "                     'SP.URB.GROW',\n",
    "                     'SP.RUR.TOTL.ZG',\n",
    "                     'SP.DYN.CDRT.IN',\n",
    "                     ]"
   ]
  },
  {
   "cell_type": "code",
   "execution_count": 47,
   "metadata": {
    "collapsed": true
   },
   "outputs": [],
   "source": [
    "col_list = ['country', 'period', 'gender', 'age', 'incidence']\n",
    "col_list.extend(important_features)"
   ]
  },
  {
   "cell_type": "code",
   "execution_count": 48,
   "metadata": {
    "collapsed": true
   },
   "outputs": [],
   "source": [
    "df_important = df[col_list]"
   ]
  },
  {
   "cell_type": "markdown",
   "metadata": {},
   "source": [
    "On trie df par ordre chronologique afin de tester sur les données les plus récentes"
   ]
  },
  {
   "cell_type": "code",
   "execution_count": 49,
   "metadata": {
    "collapsed": true
   },
   "outputs": [],
   "source": [
    "df_important = df_important.sort_values(by = ['period'])\n",
    "df_important = df_important.reset_index(drop=True)"
   ]
  },
  {
   "cell_type": "code",
   "execution_count": 50,
   "metadata": {
    "collapsed": true
   },
   "outputs": [],
   "source": [
    "y = df_important['incidence']\n",
    "X = df_important.drop(['incidence'], axis = 1)"
   ]
  },
  {
   "cell_type": "code",
   "execution_count": 51,
   "metadata": {
    "collapsed": true
   },
   "outputs": [],
   "source": [
    "X_train, X_test, y_train, y_test = train_test_split(X, y, test_size=0.33, random_state=42)"
   ]
  },
  {
   "cell_type": "markdown",
   "metadata": {},
   "source": [
    "## Data Engineering"
   ]
  },
  {
   "cell_type": "code",
   "execution_count": 48,
   "metadata": {
    "collapsed": true
   },
   "outputs": [],
   "source": [
    "from sklearn.metrics import classification_report\n",
    "from sklearn.metrics import confusion_matrix\n",
    "from sklearn.metrics import accuracy_score\n",
    "from sklearn.model_selection import train_test_split\n",
    "from sklearn.model_selection import cross_val_score\n",
    "from sklearn.model_selection import KFold\n",
    "from sklearn.tree import DecisionTreeClassifier\n",
    "from sklearn.neighbors import KNeighborsClassifier\n",
    "from sklearn.naive_bayes import GaussianNB\n",
    "from sklearn.pipeline import Pipeline\n",
    "from sklearn.preprocessing import StandardScaler\n",
    "from sklearn.model_selection import GridSearchCV\n",
    "from sklearn.svm import SVC\n",
    "import time"
   ]
  },
  {
   "cell_type": "code",
   "execution_count": 123,
   "metadata": {
    "collapsed": true
   },
   "outputs": [],
   "source": [
    "# Set up folds\n",
    "K = 10\n",
    "kf = sk.model_selection.KFold(n_splits = K, random_state = 1, shuffle = True)\n",
    "np.random.seed(0)"
   ]
  },
  {
   "cell_type": "code",
   "execution_count": 124,
   "metadata": {
    "collapsed": true
   },
   "outputs": [],
   "source": [
    "MAX_ROUNDS = 400\n",
    "OPTIMIZE_ROUNDS = False\n",
    "LEARNING_RATE = 0.07\n",
    "EARLY_STOPPING_ROUNDS = 50 "
   ]
  },
  {
   "cell_type": "code",
   "execution_count": 54,
   "metadata": {},
   "outputs": [
    {
     "ename": "AttributeError",
     "evalue": "module 'xgboost' has no attribute 'XGBClassifier'",
     "output_type": "error",
     "traceback": [
      "\u001b[0;31m---------------------------------------------------------------------------\u001b[0m",
      "\u001b[0;31mAttributeError\u001b[0m                            Traceback (most recent call last)",
      "\u001b[0;32m<ipython-input-54-c3adff32dfaa>\u001b[0m in \u001b[0;36m<module>\u001b[0;34m()\u001b[0m\n\u001b[0;32m----> 1\u001b[0;31m model = xgb.XGBClassifier(    \n\u001b[0m\u001b[1;32m      2\u001b[0m                         \u001b[0mn_estimators\u001b[0m\u001b[0;34m=\u001b[0m\u001b[0mMAX_ROUNDS\u001b[0m\u001b[0;34m,\u001b[0m\u001b[0;34m\u001b[0m\u001b[0m\n\u001b[1;32m      3\u001b[0m                         \u001b[0mmax_depth\u001b[0m\u001b[0;34m=\u001b[0m\u001b[0;36m4\u001b[0m\u001b[0;34m,\u001b[0m\u001b[0;34m\u001b[0m\u001b[0m\n\u001b[1;32m      4\u001b[0m                         \u001b[0mobjective\u001b[0m\u001b[0;34m=\u001b[0m\u001b[0;34m\"binary:logistic\"\u001b[0m\u001b[0;34m,\u001b[0m\u001b[0;34m\u001b[0m\u001b[0m\n\u001b[1;32m      5\u001b[0m                         \u001b[0mlearning_rate\u001b[0m\u001b[0;34m=\u001b[0m\u001b[0mLEARNING_RATE\u001b[0m\u001b[0;34m,\u001b[0m\u001b[0;34m\u001b[0m\u001b[0m\n",
      "\u001b[0;31mAttributeError\u001b[0m: module 'xgboost' has no attribute 'XGBClassifier'"
     ]
    }
   ],
   "source": [
    "model = xgb.XGBClassifier(    \n",
    "                        n_estimators=MAX_ROUNDS,\n",
    "                        max_depth=4,\n",
    "                        objective=\"binary:logistic\",\n",
    "                        learning_rate=LEARNING_RATE, \n",
    "                        subsample=.8,\n",
    "                        min_child_weight=6,\n",
    "                        colsample_bytree=.8,\n",
    "                        scale_pos_weight=1.6,\n",
    "                        gamma=10,\n",
    "                        reg_alpha=8,\n",
    "                        reg_lambda=1.3,\n",
    "                     )"
   ]
  },
  {
   "cell_type": "code",
   "execution_count": null,
   "metadata": {
    "collapsed": true
   },
   "outputs": [],
   "source": [
    "y_valid_pred = 0*y\n",
    "y_test_pred = 0"
   ]
  },
  {
   "cell_type": "code",
   "execution_count": null,
   "metadata": {
    "collapsed": true
   },
   "outputs": [],
   "source": [
    "for i, (train_index, test_index) in enumerate(kf.split(data_train)):\n",
    "    \n",
    "    # Create data for this fold\n",
    "    y_train, y_valid = y.iloc[train_index].copy(), y.iloc[test_index]\n",
    "    X_train, X_valid = X.iloc[train_index,:].copy(), X.iloc[test_index,:].copy()\n",
    "    X_test = data_test.copy()\n",
    "    print( \"\\nFold \", i)\n",
    "\n",
    "    # Run model for this fold\n",
    "    if OPTIMIZE_ROUNDS:\n",
    "        eval_set=[(X_valid,y_valid)]\n",
    "        fit_model = model.fit( X_train, y_train, \n",
    "                               eval_set=eval_set,\n",
    "                               eval_metric=gini_xgb,\n",
    "                               early_stopping_rounds=EARLY_STOPPING_ROUNDS,\n",
    "                               verbose=False\n",
    "                             )\n",
    "        print( \"  Best N trees = \", model.best_ntree_limit )\n",
    "        print( \"  Best gini = \", model.best_score )\n",
    "    else:\n",
    "        fit_model = model.fit( X_train, y_train )\n",
    "        \n",
    "    # Generate validation predictions for this fold\n",
    "    pred = fit_model.predict_proba(X_valid)[:,1]\n",
    "    print( \"  Accuracy = \", accuracy_score(y_valid, pred) )\n",
    "    y_valid_pred.iloc[test_index] = pred\n",
    "    \n",
    "    # Accumulate test set predictions\n",
    "    y_test_pred += fit_model.predict_proba(X_test)[:,1]\n",
    "    \n",
    "    del X_test, X_train, X_valid, y_train\n",
    "\n",
    "y_test_pred /= K  # Average test set predictions\n",
    "\n",
    "print( \"\\Accuracy for full training set:\" )\n",
    "eval_gini(y, y_valid_pred)"
   ]
  },
  {
   "cell_type": "code",
   "execution_count": null,
   "metadata": {
    "collapsed": true,
    "scrolled": false
   },
   "outputs": [],
   "source": [
    "for col in data.columns:\n",
    "    print (col)"
   ]
  },
  {
   "cell_type": "markdown",
   "metadata": {},
   "source": [
    "xgboost"
   ]
  },
  {
   "cell_type": "code",
   "execution_count": 85,
   "metadata": {
    "collapsed": true
   },
   "outputs": [],
   "source": [
    "import numpy as np # linear algebra\n",
    "import pandas as pd # data processing, CSV file I/O (e.g. pd.read_csv)\n",
    "import xgboost as xgb\n",
    "from sklearn.model_selection import train_test_split\n",
    "from sklearn.metrics import confusion_matrix\n",
    "from sklearn.metrics import f1_score"
   ]
  },
  {
   "cell_type": "code",
   "execution_count": 141,
   "metadata": {
    "collapsed": true
   },
   "outputs": [],
   "source": [
    "train_df = pd.read_csv(\"/Users/Jenny/Downloads/train.csv\" , sep=\",\").drop('country', axis = 1)"
   ]
  },
  {
   "cell_type": "code",
   "execution_count": 142,
   "metadata": {
    "collapsed": true
   },
   "outputs": [],
   "source": [
    "train = train_df[:10105]\n",
    "test = train_df[10105:]"
   ]
  },
  {
   "cell_type": "code",
   "execution_count": 158,
   "metadata": {
    "collapsed": true
   },
   "outputs": [],
   "source": [
    "y = train['incidence'].values\n",
    "y_test = test['incidence'].values"
   ]
  },
  {
   "cell_type": "code",
   "execution_count": 159,
   "metadata": {
    "collapsed": true
   },
   "outputs": [],
   "source": [
    "train_x = train.drop(['incidence'], axis=1)\n",
    "test_x = test.drop(['incidence'], axis = 1)"
   ]
  },
  {
   "cell_type": "code",
   "execution_count": 160,
   "metadata": {
    "collapsed": true
   },
   "outputs": [],
   "source": [
    "X_train, X_validation, y_train, y_validation = train_test_split(train_x, y, train_size=0.9, random_state=1234)"
   ]
  },
  {
   "cell_type": "code",
   "execution_count": 161,
   "metadata": {
    "collapsed": true
   },
   "outputs": [],
   "source": [
    "dtrain = xgb.DMatrix(X_train, y_train)\n",
    "dvalidation = xgb.DMatrix(X_validation, y_validation)\n",
    "dtest = xgb.DMatrix(test_x)"
   ]
  },
  {
   "cell_type": "code",
   "execution_count": 174,
   "metadata": {
    "collapsed": true
   },
   "outputs": [],
   "source": [
    "param = {}\n",
    "param['objective'] = 'multi:softmax'\n",
    "param['eta'] = 0.02\n",
    "param['silent'] = True\n",
    "param['max_depth'] = 5\n",
    "param['subsample'] = 0.8\n",
    "param['colsample_bytree'] = 0.8\n",
    "param['eval_metric'] = 'auc'\n",
    "param['num_class'] = 16000"
   ]
  },
  {
   "cell_type": "code",
   "execution_count": 175,
   "metadata": {
    "collapsed": true
   },
   "outputs": [],
   "source": [
    "evallist  = [(dvalidation,'eval'), (dtrain,'train')]"
   ]
  },
  {
   "cell_type": "code",
   "execution_count": null,
   "metadata": {
    "collapsed": true
   },
   "outputs": [],
   "source": [
    "model = xgb.train(param, dtrain, 963, evallist, early_stopping_rounds=100, maximize=True, verbose_eval=9)"
   ]
  },
  {
   "cell_type": "code",
   "execution_count": null,
   "metadata": {
    "collapsed": true
   },
   "outputs": [],
   "source": [
    "pred = model.predict(dtest)\n",
    "#y_validation=list(y_validation)"
   ]
  }
 ],
 "metadata": {
  "kernelspec": {
   "display_name": "Python 3",
   "language": "python",
   "name": "python3"
  },
  "language_info": {
   "codemirror_mode": {
    "name": "ipython",
    "version": 3
   },
   "file_extension": ".py",
   "mimetype": "text/x-python",
   "name": "python",
   "nbconvert_exporter": "python",
   "pygments_lexer": "ipython3",
   "version": "3.6.3"
  }
 },
 "nbformat": 4,
 "nbformat_minor": 2
}
